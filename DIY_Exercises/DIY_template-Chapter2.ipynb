{
 "cells": [
  {
   "cell_type": "markdown",
   "metadata": {},
   "source": [
    "# Getting Started\n",
    "\n",
    "Python is a general-purpose, high-level programming language. It was invented by the Dutch computer programmer [Guido van Rossum](https://en.wikipedia.org/wiki/Guido_van_Rossum) and was released for the first time in 1990.\n",
    "\n",
    "A high-level programming language is a language that enjoys strong abstraction from com- puter details. This means that it is closer to the language that is spoken and understood by humans; which put simply, makes the language more enjoyable to work with.\n",
    "\n",
    "In the [2019 developer survey conducted by StackOverflow](https://www.jetbrains.com/lp/python-developers-survey-2019/) it was found that most respondents use Python as their primary programming language. In 2020, Python was one of the most widely used [languages for Data Science and Machine Learning](https://www.jetbrains.com/lp/devecosystem-2020/python/).\n",
    "\n",
    "For further reference, please see the [official Python website](https://www.python.org). \n",
    "\n",
    "You can try going through the [Beginner Tutorial](https://docs.python.org/3.8/tutorial/index.html). \n",
    "\n",
    "And finally, for any technical term it is good to check the [Glossary](https://docs.python.org/3/glossary.html).\n",
    "\n",
    "\n",
    "In the code below, feel free to add as many new cells as needed.\n",
    "\n",
    "Good coding!\n"
   ]
  },
  {
   "cell_type": "markdown",
   "metadata": {},
   "source": [
    "# Variables, Types, and Operations"
   ]
  },
  {
   "cell_type": "markdown",
   "metadata": {},
   "source": [
    "## I/O Operations"
   ]
  },
  {
   "cell_type": "markdown",
   "metadata": {},
   "source": [
    "The `print()` function is written entirely in lower-case characters, and it is followed by a pair of parenthesis.\n",
    "\n",
    "Conventionally, functions in Python should always be defined using lower case characters. Some IDEs change color when they encounter built-in functions. In JupyterLab, Python functions are highlighted in green by default.\n"
   ]
  },
  {
   "cell_type": "markdown",
   "metadata": {},
   "source": [
    "__Do It Yourself 2.1.1__\n",
    "\n",
    "Write a script that displays the following output:\n",
    "\n",
    "> Protein Kinase C (Alpha subunit)"
   ]
  },
  {
   "cell_type": "code",
   "execution_count": null,
   "metadata": {},
   "outputs": [],
   "source": []
  },
  {
   "cell_type": "markdown",
   "metadata": {},
   "source": [
    "Python is an interpreted language; that is, the code we write is executed by the Python interpreter one line at a time. The `input()` function performs a blocking process. This means that the execution of the code by the Python interpreter is halted upon encountering an `input()` function until the user enters a value. Once a value is entered, the interpreter then proceeds to execute the next line.\n"
   ]
  },
  {
   "cell_type": "markdown",
   "metadata": {},
   "source": [
    "__Do It Yourself 2.1.2__\n",
    "\n",
    "Write a script that asks the user to enter the name of a protein in the terminal."
   ]
  },
  {
   "cell_type": "code",
   "execution_count": 4,
   "metadata": {},
   "outputs": [
    {
     "name": "stdin",
     "output_type": "stream",
     "text": [
      "Please enter the name of a protein:  PFK\n"
     ]
    },
    {
     "data": {
      "text/plain": [
       "'PFK'"
      ]
     },
     "execution_count": 4,
     "metadata": {},
     "output_type": "execute_result"
    }
   ],
   "source": [
    "input('Please enter the name of a protein: ')"
   ]
  },
  {
   "cell_type": "markdown",
   "metadata": {},
   "source": [
    "## Variables and Types\n",
    "\n",
    "The name of a variable is in fact an alias for a location in the memory. To handle data in a program, we assign them to a variable with a name of our choice. Variables can contain letters, numbers (except for the first character) and the underscore `_`. To prevent Python from confusing variable names with meaningful commands or inbuilt functions avoid names that are highlighted by the editor. To define a variable that contains text, we use quotation marks. As long as we remain consistent, it doesn’t matter whether we use single or double quotations. These variables are known as _string_ or `str`."
   ]
  },
  {
   "cell_type": "markdown",
   "metadata": {},
   "source": [
    "__Do It Yourself 2.2.1__"
   ]
  },
  {
   "cell_type": "markdown",
   "metadata": {},
   "source": [
    "Oxidised low-density lipoprotein (LDL) receptor 1 mediates the recognition, internalisation and degradation of oxida- tively modified low density lipoprotein by vascular endothelial cells. Using the [Universal Protein Resource (UniProt) website](https://www.uniprot.org), find this protein for humans, and identify:\n",
    "\n",
    "• UniProtentrynumber\n",
    "• Length of the protein for isoform 1 (underSequences) \n",
    "• Gene name (under Names & Taxonomy)\n",
    "\n",
    "Store the information you retrieved, including the protein name, in 4 separate variables.\n",
    "\n",
    "Display the values of these 4 variables in one line, and separate the items with 3 spaces, as follows:\n",
    "\n",
    "```\n",
    "Name    EntryNo    GeneName    Length\n",
    "```"
   ]
  },
  {
   "cell_type": "code",
   "execution_count": null,
   "metadata": {},
   "outputs": [],
   "source": []
  },
  {
   "cell_type": "markdown",
   "metadata": {},
   "source": [
    "__Do It Yourself 2.2.2__"
   ]
  },
  {
   "cell_type": "markdown",
   "metadata": {},
   "source": [
    "1. Write a script that upon execution, asks the user to enter the name of an enzyme and then retains the response in an appropriately named variable.\n",
    "\n",
    "2. Use the variable to display an output similar to the following:\n",
    "\n",
    "```\n",
    "ENZYME_NAME is an enzyme.\n",
    "```\n",
    "where ENZYME_NAME is the name of the enzyme entered in the prompt.\n",
    "\n",
    "3. Now alter your script to ask the user to enter the number of amino acids in that enzyme. Retain the value in another appropriately named variable.\n",
    "\n",
    "4. Alter the output of your script to display a report in the following format:\n",
    "\n",
    "```\n",
    "ENZYME_NAME is an enzyme containing a total number of AMINO_ACIDS amino acids.\n",
    "```\n",
    "(where AMINO_ACIDS is the number of amino acids.)\n"
   ]
  },
  {
   "cell_type": "code",
   "execution_count": null,
   "metadata": {},
   "outputs": [],
   "source": []
  },
  {
   "cell_type": "markdown",
   "metadata": {},
   "source": [
    "__Do It Yourself 2.2.3__"
   ]
  },
  {
   "cell_type": "markdown",
   "metadata": {},
   "source": [
    "Determine and display the type for each of these values: \n",
    "\n",
    "- 32\n",
    "- 24.3454\n",
    "- 2.5 + 1.5\n",
    "- \"RNA Polymerase III\" \n",
    "- 0\n",
    "- .5 - 1\n",
    "- 1.3e-5\n",
    "- 3e5\n",
    "\n",
    "The result for each value should be represented in the following format:\n",
    "\n",
    "```\n",
    "Value X is an instance of <class 'Y'>\n",
    "```\n"
   ]
  },
  {
   "cell_type": "code",
   "execution_count": 7,
   "metadata": {},
   "outputs": [
    {
     "name": "stdout",
     "output_type": "stream",
     "text": [
      "Value 32 is an instance of <class 'int'>\n"
     ]
    }
   ],
   "source": [
    "value = 32\n",
    "value_type = type(value)\n",
    "print('Value', value, 'is an instance of', value_type)\n"
   ]
  },
  {
   "cell_type": "code",
   "execution_count": null,
   "metadata": {},
   "outputs": [],
   "source": []
  },
  {
   "cell_type": "markdown",
   "metadata": {},
   "source": [
    "__Do It Yourself 2.2.4__"
   ]
  },
  {
   "cell_type": "markdown",
   "metadata": {},
   "source": [
    "We have been given the following snippet written in Python 3:\n",
    "\n",
    "```\n",
    "value_a = 3 value_b = '2'\n",
    "result = value_a + value_b\n",
    "print(value_a, '+', value_b, '=', result)\n",
    "\n",
    "```\n",
    "\n",
    "but when the code is executed, we encounter an error message as follows:\n",
    "\n",
    "```\n",
    "Traceback (most recent call last): File \"<stdin>\", line 1, in <module>\n",
    "TypeError: unsupported operand type(s) for +: 'int' and 'str'\n",
    "```\n",
    "\n",
    "Debug the snippet so that the correct result is displayed:\n",
    "\n",
    "```\n",
    "3 + 2 = 5\n",
    "```\n"
   ]
  },
  {
   "cell_type": "code",
   "execution_count": null,
   "metadata": {},
   "outputs": [],
   "source": []
  },
  {
   "cell_type": "markdown",
   "metadata": {},
   "source": [
    "__Do It Yourself 2.2.5__"
   ]
  },
  {
   "cell_type": "markdown",
   "metadata": {},
   "source": [
    "We know that each amino acid in a protein is encoded by a triplet of mRNA nucleotides.\n",
    "With that in mind, alter the script you wrote for DIY 2.2.2 and use the number of amino acids entered by the user to calculate the number of mRNA nucleotides.\n",
    "Display the results in the following format:\n",
    "\n",
    "'''\n",
    "ENZYME_NAME is an enzyme with AMINO_ACIDS amino acids and NUCLEOTIDES nucleotides.\n",
    "'''\n",
    "\n",
    "where NUCLEOTIDES is the total number of mRNA nucleotides that you calculated. \n",
    "\n",
    "Note: Multiplication is represented using the asterisk (\\*) sign.\n"
   ]
  },
  {
   "cell_type": "code",
   "execution_count": null,
   "metadata": {},
   "outputs": [],
   "source": []
  },
  {
   "cell_type": "markdown",
   "metadata": {},
   "source": [
    "## Operations\n",
    "\n",
    "Basic mathematical operations in Python are shown on page 30 in chapter 2."
   ]
  },
  {
   "cell_type": "markdown",
   "metadata": {},
   "source": [
    "__Do It Yourself 2.3.1__"
   ]
  },
  {
   "cell_type": "markdown",
   "metadata": {},
   "source": [
    "1. Calculate the following and store the results in appropriately named variables: \n",
    "\n",
    "a. 5.8 × 3.3\n",
    "\n",
    "b. 6 / 180\n",
    "\n",
    "c. 35 − 3.0\n",
    "\n",
    "d. 35 − 3 \n",
    "\n",
    "e. $2^{1000}$\n",
    "\n",
    "Display the result of each calculation – including the type, in the following format:\n",
    "\n",
    "```\n",
    "Result: X is an instance of <class 'Y'>\n",
    "```\n",
    "\n",
    "2. Now using the results you obtained:\n",
    "\n",
    "- Can you explain why the result of 35−3.0 is an instance of type float, whilst that of 35−3 is of type int?\n",
    "\n",
    "- Unlike the numeric types, string values have a length. To obtain the length of a string value, we use __len()__ . Convert the result for $2^{1000}$ from int to str, then use the aforementioned function to work out the length of the number — i.e. how many digits is it made of?\n",
    "\n",
    "\n",
    "If you feel adventurous, you can try this for $2^{10000}$ or higher; but beware that you might overwhelm your computer and need a restart if you go too far (i.e. above $2^{1000000}$). Just make sure you save everything beforehand, so you don’t accidentally step on your own foot.\n",
    "\n",
    "Hint: We discuss __len()__ in subsection 4.1.6.2. However, at this point, you should be able to use the official documentations and StackOverflow to work out how it works.\n"
   ]
  },
  {
   "cell_type": "code",
   "execution_count": null,
   "metadata": {},
   "outputs": [],
   "source": []
  },
  {
   "cell_type": "markdown",
   "metadata": {},
   "source": [
    "__Do It Yourself 2.3.2__"
   ]
  },
  {
   "cell_type": "markdown",
   "metadata": {},
   "source": [
    "1. Given:\n",
    "\n",
    "- Circumference: C = 18.84956\n",
    "- Radius: R = 3\n",
    "\n",
    "and considering that the properties of a circle are defined as follows:\n",
    "\n",
    "\n",
    "calculate $\\pi$ using the following equation and store it in a variable named _pi_: \n",
    "\n",
    "$pi = C\\, /\\, D$\n",
    "\n",
    "Then round the results to 5 decimal places and display the result in the following format:\n",
    "\n",
    "```\n",
    "The value of pi calculated to 5 decimal places: X.XXXXX\n",
    "```\n",
    "\n",
    "Note: To round floating point numbers in Python, we use __round()__. This is a built-in function that takes 2 input arguments: the first is the variable/value to be rounded, and the second is the number decimal places. Read more about round() in the [official documentations](https://docs.python.org/3.8/library/functions.html#round).\n",
    "\n",
    "2. Now, without creating a new variable, perform the following operation:\n",
    "\n",
    "pi = pi / ((3 mod 2) − 1)\n",
    "\n",
    "where the expression “3 mod 2” represents the remainder for the division of 3 by 2.\n",
    "\n",
    "Explain the output.\n",
    "\n"
   ]
  },
  {
   "cell_type": "code",
   "execution_count": null,
   "metadata": {},
   "outputs": [],
   "source": []
  },
  {
   "cell_type": "code",
   "execution_count": null,
   "metadata": {},
   "outputs": [],
   "source": []
  },
  {
   "cell_type": "markdown",
   "metadata": {},
   "source": [
    "__Do It Yourself 2.3.3__"
   ]
  },
  {
   "cell_type": "markdown",
   "metadata": {},
   "source": [
    "Display the result of each item in the following format:\n",
    "\n",
    "```\n",
    "EXPRESSION = RESULT\n",
    "```\n",
    "\n",
    "For example:\n",
    "\n",
    "```\n",
    "2 + 3 = 5\n",
    "```\n",
    "\n",
    "1. Calculate each expression _without_ using parentheses: \n",
    "\n",
    "- $3 \\cdot \\frac{2}{4}$\n",
    "- $5 + 3 \\cdot \\frac{2}{4}$ \n",
    "- $3 \\cdot \\frac{2}{4} + 5$\n",
    "- $\\frac{2}{4} \\cdot 3$\n",
    "\n",
    "2. Calculate these expressions _using_ parentheses:\n",
    "\n",
    "- $5 + \\frac{2}{4} \\cdot 3$\n",
    "- $5 + \\frac{2 \\cdot 3}{4}$\n",
    "- $5 + \\frac{2}{4 \\cdot 3}$\n",
    "\n",
    "3. Given\n",
    "\n",
    "```\n",
    "a = 2 \n",
    "b = 5\n",
    "```\n",
    "\n",
    "use a and b to calculate the following expressions:\n",
    "\n",
    "a) $(a+b)^2$\n",
    "\n",
    "b) $a^2 + 2ab + b^2$\n",
    "\n"
   ]
  },
  {
   "cell_type": "code",
   "execution_count": null,
   "metadata": {},
   "outputs": [],
   "source": []
  },
  {
   "cell_type": "code",
   "execution_count": null,
   "metadata": {},
   "outputs": [],
   "source": []
  },
  {
   "cell_type": "code",
   "execution_count": null,
   "metadata": {},
   "outputs": [],
   "source": []
  },
  {
   "cell_type": "markdown",
   "metadata": {},
   "source": [
    "__Do It Yourself 2.3.4__"
   ]
  },
  {
   "cell_type": "markdown",
   "metadata": {},
   "source": [
    "The risk of Huntington’s disease appears to increase proportional to the continuous repetition of CAG nucleotides (glutamine codon) once they exceed 35 near the beginning of the Huntingtin (IT15) gene. The CAG repeats are also referred to as a polyglutamine or polyQ tract.\n",
    "\n",
    "Given\n",
    "\n",
    "```\n",
    "glutamine_codon = 'CAG'\n",
    "```\n",
    "\n",
    "1. Createapolynucleotidechainrepresenting36glutaminecodons.Storetheresultinavariablecalledpolyq_codons.\n",
    "Display the result as:\n",
    "\n",
    "```\n",
    "Polyglutamine codons with 36 repeats: XXXXXXXXX...\n",
    "```\n",
    "\n",
    "2. Use __len()__ to work out the length of polyq_codons, and store the result in a variable called polyq_codons_length. Display the result in the following format:\n",
    "\n",
    "```\n",
    "Number of nucleotides in a polyglutamine with 36 repeats: XXX\n",
    "```\n",
    "\n",
    "3. Use __len()__ to work out the length of glutamin_codon, and store the result in variable amino_acids_per_codon.\n",
    "\n",
    "4. Divide polyq_codons_length by amino_acids_per_codon to prove that the chain contains the codon for exactly 36 amino acids. Store the result in variable polyq_peptide_length.\n",
    "\n",
    "Display the result in the following format:\n",
    "\n",
    "```\n",
    "Number of amino acids in a polyglutamine with 36 repeats: XXX\n",
    "```\n",
    "\n",
    "5. Determine the types for the following variable: \n",
    "\n",
    "- amino_acids_per_codon\n",
    "- polyq_codons_length\n",
    "- polyq_peptide_length\n",
    "\n",
    "and display the result for each item in the following format:\n",
    "\n",
    "```\n",
    "Value: XXX - Type: <class 'XXXX'>\n",
    "```\n",
    "\n",
    "- Are all the variables in task#5 of the same type? Why?\n",
    "\n",
    "- Repeat from task#4 onwards but this time use analternative method of division as outlined in table 2.1.\n"
   ]
  },
  {
   "cell_type": "code",
   "execution_count": null,
   "metadata": {},
   "outputs": [],
   "source": []
  },
  {
   "cell_type": "code",
   "execution_count": null,
   "metadata": {},
   "outputs": [],
   "source": []
  },
  {
   "cell_type": "code",
   "execution_count": null,
   "metadata": {},
   "outputs": [],
   "source": []
  },
  {
   "cell_type": "markdown",
   "metadata": {},
   "source": [
    "An operation may involve a comparison. The result of such operations is either 'True' or 'False'. This is known as the Boolean or bool data type. In reality, however, computers record True and False as '1' and '0', respectively.\n"
   ]
  },
  {
   "cell_type": "markdown",
   "metadata": {},
   "source": [
    "__Do It Yourself 2.3.5__\n"
   ]
  },
  {
   "cell_type": "markdown",
   "metadata": {},
   "source": [
    "We know that in algebra, the first identity (square of a binomial) is:\n",
    "\n",
    "$$ (a+b)^2 = a^2 + 2ab + b^2$$\n",
    "\n",
    "Given:\n",
    "\n",
    "```\n",
    "a = 15 \n",
    "b = 4\n",
    "```\n",
    "\n",
    "1. Calculate\n",
    "\n",
    "- $y_1 = (a+b)^2$\n",
    "- $y_2 = (a^2 + 2ab + b^2$\n",
    "\n",
    "Display the results in the following format:\n",
    "\n",
    "\n",
    "```\n",
    " y1 = XX \n",
    " y2 = XX\n",
    "```\n",
    " \n",
    " 2. Determine whether or not y_1 is indeed equal to y_2. Store the result of your test in another variable called equivalence. Display the results in the following format:\n",
    " \n",
    " ```\n",
    "Where a = XX and b = XX:\n",
    "y1 is equal to y2: [True/False]\n",
    " ```\n",
    " "
   ]
  },
  {
   "cell_type": "code",
   "execution_count": null,
   "metadata": {},
   "outputs": [],
   "source": []
  },
  {
   "cell_type": "code",
   "execution_count": null,
   "metadata": {},
   "outputs": [],
   "source": []
  },
  {
   "cell_type": "markdown",
   "metadata": {},
   "source": [
    "__Do It Yourself 2.3.6__\n"
   ]
  },
  {
   "cell_type": "markdown",
   "metadata": {},
   "source": [
    "Using the information from DIY 2.3.5:\n",
    "\n",
    "1. Without using __not__, determine whether or not $y_1$ is not equal to $y_2$. Display the result of your test and store it in another variable called inequivalent. \n",
    "\n",
    "2. Negate inequivalent and display the result.\n"
   ]
  },
  {
   "cell_type": "code",
   "execution_count": null,
   "metadata": {},
   "outputs": [],
   "source": []
  },
  {
   "cell_type": "code",
   "execution_count": null,
   "metadata": {},
   "outputs": [],
   "source": []
  },
  {
   "cell_type": "markdown",
   "metadata": {},
   "source": [
    "__Do It Yourself 2.3.7__\n"
   ]
  },
  {
   "cell_type": "markdown",
   "metadata": {},
   "source": [
    "Given\n",
    "\n",
    "```\n",
    "- a = True\n",
    "- b = False\n",
    "- c = True\n",
    "```\n",
    "\n",
    "Execute the following statements:\n",
    "    \n",
    "```\n",
    "1. a == b\n",
    "2. a == c\n",
    "3. a or b\n",
    "4. a and b\n",
    "5. a or b and c\n",
    "6. (a or b) and c\n",
    "7. not a or (b and c)\n",
    "8. not a or not(b and c) \n",
    "9. not a and not(b and c)\n",
    "10. not a and not(b or c)\n",
    "```\n",
    "\n",
    "Display the results in the following format:\n",
    "\n",
    "```\n",
    "1. [True/False] \n",
    "2. [True/False] \n",
    "...\n",
    "```\n",
    "\n",
    "Feel free to add as many cells as needed."
   ]
  },
  {
   "cell_type": "code",
   "execution_count": null,
   "metadata": {},
   "outputs": [],
   "source": []
  },
  {
   "cell_type": "code",
   "execution_count": null,
   "metadata": {},
   "outputs": [],
   "source": []
  },
  {
   "cell_type": "code",
   "execution_count": null,
   "metadata": {},
   "outputs": [],
   "source": []
  },
  {
   "cell_type": "markdown",
   "metadata": {},
   "source": [
    "__Do It Yourself 2.3.8__\n"
   ]
  },
  {
   "cell_type": "markdown",
   "metadata": {},
   "source": [
    "Given\n",
    "\n",
    "```\n",
    "a = 3\n",
    "b = 13\n",
    "```\n",
    "\n",
    "Test the following statements and display the results:\n",
    "\n",
    "- $a^2 > b$\n",
    "- $3 - a^3 < b$\n",
    "- $|25 - a^2| > b$\n",
    "- $25\\, mod\\, a^2 > b$\n",
    "- $25\\, mod\\, a^2 > b$ or $25\\, mod\\, b < a$\n",
    "- $25\\, mod\\, a^2 < b$ and $25\\, mod \\, b > a$\n",
    "- $\\frac{12}{a}$ and $a \\cdot 4 < b$\n",
    "\n",
    "where “|. . . |” represents the absolute value, and “$n$ mod $m$” represents the remainder for the division of $n$ by $m$. \n",
    "\n",
    "Display the results in the following format:\n",
    "\n",
    "```\n",
    "1. [True/False] \n",
    "2. [True/False]\n",
    "```\n"
   ]
  },
  {
   "cell_type": "code",
   "execution_count": null,
   "metadata": {},
   "outputs": [],
   "source": []
  },
  {
   "cell_type": "code",
   "execution_count": null,
   "metadata": {},
   "outputs": [],
   "source": []
  },
  {
   "cell_type": "code",
   "execution_count": null,
   "metadata": {},
   "outputs": [],
   "source": []
  }
 ],
 "metadata": {
  "kernelspec": {
   "display_name": "Python 3 (ipykernel)",
   "language": "python",
   "name": "python3"
  },
  "language_info": {
   "codemirror_mode": {
    "name": "ipython",
    "version": 3
   },
   "file_extension": ".py",
   "mimetype": "text/x-python",
   "name": "python",
   "nbconvert_exporter": "python",
   "pygments_lexer": "ipython3",
   "version": "3.8.13"
  },
  "toc-autonumbering": true,
  "toc-showmarkdowntxt": false,
  "toc-showtags": false
 },
 "nbformat": 4,
 "nbformat_minor": 4
}
