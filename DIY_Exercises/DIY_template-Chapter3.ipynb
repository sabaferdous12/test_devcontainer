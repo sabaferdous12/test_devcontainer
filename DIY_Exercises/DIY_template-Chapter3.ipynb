{
 "cells": [
  {
   "cell_type": "markdown",
   "metadata": {},
   "source": [
    "# Conditional Statements"
   ]
  },
  {
   "cell_type": "code",
   "execution_count": null,
   "metadata": {},
   "outputs": [],
   "source": []
  },
  {
   "cell_type": "markdown",
   "metadata": {},
   "source": [
    "__Do It Yourself 3.2.1__"
   ]
  },
  {
   "cell_type": "markdown",
   "metadata": {},
   "source": [
    "On a distant planet, the dominant carnivore, the zab, is nearing extinction. The number of zabs born in any year is one more than the (positive) difference between the number born in the previous year and the number born in the year before that.\n",
    "\n",
    "Examples:\n",
    "\n",
    "- If 7 zabs were born last year and 5 the year before, 3 would be born this year.\n",
    "- If 7 zabs were born last year and 10 the year before, 4 would be born this year.\n",
    "\n",
    "If 2 zabs were born in the year 2000 and 9 zabs were born in 2001, what is the first year after 2000 when just 1 zab will be born?\n",
    "\n",
    "a) 2009 b) 2011 c) 2013 d) 2015 e) 2017\n",
    "\n",
    "__Credit__ This question featured in the 2011 Computational and Algorithmic Thinking (CAT) Competition of the Australian Mathematics Trust.\n"
   ]
  },
  {
   "cell_type": "code",
   "execution_count": null,
   "metadata": {},
   "outputs": [],
   "source": []
  },
  {
   "cell_type": "markdown",
   "metadata": {},
   "source": [
    "__Do It Yourself 3.3.1__"
   ]
  },
  {
   "attachments": {},
   "cell_type": "markdown",
   "metadata": {},
   "source": [
    "In previous chapter, Do it Yourself, 2.3.4, we explored the implication of CAG repeats in Huntington’s disease. We also created a polynucleotide chain containing 36 repetition of the CAG codons.\n",
    "Write a conditional statement that tests the length of a polyQ tract to determine the classification and the disease status based on the following table:\n",
    "\n",
    "| Number of Repeats | Classification | Disease Status |\n",
    "|---|---|---|\n",
    "| < 26              | Normal         | Unaffected     |\n",
    "| 27 - 35              | Intermediate         | Unaffected     |\n",
    "| 36 - 40              | Reduced Penetrance         | +/- Affected     |\n",
    "| > 40              | Full Penetrance         | Affected     |\n",
    "\n",
    "Using the technique you used in DIY 2.3.4, create 5 polyQ tracts containing 26, 15, 39, 32, 26, and 54 codons. Use these polynucleotide chains to test your conditional statement.\n",
    "Display the result for each chain in the following format:\n",
    "\n",
    "```\n",
    "PolyQ chain with XXX number of CAG codons: \n",
    "Status: XXX\n",
    "Classification: XXX\n",
    "```\n",
    "\n",
    "__Hint__ The length of a polyQ tract represents the number of nucleotides, not the number of CAG codons. See task 4 of DIY 2.3.4 for additional information.\n"
   ]
  },
  {
   "cell_type": "code",
   "execution_count": null,
   "metadata": {},
   "outputs": [],
   "source": []
  },
  {
   "cell_type": "code",
   "execution_count": null,
   "metadata": {},
   "outputs": [],
   "source": []
  },
  {
   "cell_type": "code",
   "execution_count": null,
   "metadata": {},
   "outputs": [],
   "source": []
  }
 ],
 "metadata": {
  "kernelspec": {
   "display_name": "Python 3 (ipykernel)",
   "language": "python",
   "name": "python3"
  },
  "language_info": {
   "codemirror_mode": {
    "name": "ipython",
    "version": 3
   },
   "file_extension": ".py",
   "mimetype": "text/x-python",
   "name": "python",
   "nbconvert_exporter": "python",
   "pygments_lexer": "ipython3",
   "version": "3.8.11"
  },
  "toc-autonumbering": false,
  "toc-showmarkdowntxt": false,
  "toc-showtags": false
 },
 "nbformat": 4,
 "nbformat_minor": 4
}
