{
 "cells": [
  {
   "cell_type": "markdown",
   "metadata": {},
   "source": [
    "__End of Chapter Exercises__"
   ]
  },
  {
   "cell_type": "markdown",
   "metadata": {},
   "source": [
    "1. Write and execute a Python script to display your own name as an output in the terminal.\n",
    "2. Write and execute a Python script that:\n",
    "\n",
    "- Displays the text \"Please press enter to continue...\", and waits for the user to press enter.\n",
    "- Once the user pressed enter, the program should display \"Welcome to my programme!\" before it terminates.\n",
    "\n",
    "3. We have an enzyme whose reaction velocity is $\\nu = 50$ mol $\\cdot L^{-1} \\cdot s^{-1}$ at the substrate concentration of $[S] = Km = 2.5$ mol $\\cdot L^{-1}$. Work out the maximum reaction velocity or _Vmax_ for this enzyme using the Michaelis-Menten equation:\n",
    "\n",
    "$$\\nu = \\frac{Vmax[S]}{(Km+[S]}$$\n"
   ]
  },
  {
   "cell_type": "code",
   "execution_count": null,
   "metadata": {},
   "outputs": [],
   "source": []
  },
  {
   "cell_type": "code",
   "execution_count": null,
   "metadata": {},
   "outputs": [],
   "source": []
  },
  {
   "cell_type": "code",
   "execution_count": null,
   "metadata": {},
   "outputs": [],
   "source": []
  }
 ],
 "metadata": {
  "kernelspec": {
   "display_name": "Python 3 (ipykernel)",
   "language": "python",
   "name": "python3"
  },
  "language_info": {
   "codemirror_mode": {
    "name": "ipython",
    "version": 3
   },
   "file_extension": ".py",
   "mimetype": "text/x-python",
   "name": "python",
   "nbconvert_exporter": "python",
   "pygments_lexer": "ipython3",
   "version": "3.8.11"
  },
  "toc-autonumbering": true,
  "toc-showmarkdowntxt": false,
  "toc-showtags": false
 },
 "nbformat": 4,
 "nbformat_minor": 4
}
